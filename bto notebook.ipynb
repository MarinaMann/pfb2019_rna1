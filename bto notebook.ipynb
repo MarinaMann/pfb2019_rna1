{
 "cells": [
  {
   "cell_type": "markdown",
   "metadata": {},
   "source": [
    "To log on to AWS, go to Downloads directory and run the following:"
   ]
  },
  {
   "cell_type": "code",
   "execution_count": null,
   "metadata": {},
   "outputs": [],
   "source": [
    "ssh -i PFB2019-student.pem bto@rna1.programmingforbiology.org"
   ]
  },
  {
   "cell_type": "markdown",
   "metadata": {},
   "source": [
    "First index the genome using the following format:\n",
    "--runThreadN NumberOfThreads\n",
    "--runMode genomeGenerate\n",
    "--genomeDir /path/to/genomeDir\n",
    "--genomeFastaFiles /path/to/genome/fasta1 /path/to/genome/fasta2 ...\n",
    "--sjdbGTFfile /path/to/annotations.gtf"
   ]
  },
  {
   "cell_type": "code",
   "execution_count": 2,
   "metadata": {
    "scrolled": true
   },
   "outputs": [
    {
     "data": {
      "text/plain": [
       "5"
      ]
     },
     "execution_count": 2,
     "metadata": {},
     "output_type": "execute_result"
    }
   ],
   "source": [
    "STAR --runThreadN 4 --runMode genomeGenerate --genomeDir ~/pfb2019_rna1/reference/chr1/indexedchr1 --genomeFastaFiles ~/pfb2019_rna1/reference/chr1/GCF_000001735.4_TAIR10.1_genomic_chr1.fa --sjdbGTFtagExonParentTranscript ~/pfb2019_rna1/reference/chr1/GCF_000001735.4_TAIR10.1_genomic_chr1.gff\n"
   ]
  },
  {
   "cell_type": "markdown",
   "metadata": {},
   "source": [
    "Next map reads using the following format for each replicate:\n",
    "\n",
    "--runThreadN NumberOfThreads\n",
    "--genomeDir /path/to/genomeDir\n",
    "--readFilesIn /path/to/read1 /path/to/read1\n",
    "\n",
    "Next commands are for samples:\n",
    "    Red-light pulse samples:\n",
    "    SRR9659514\n",
    "    SRR9659515\n",
    "    SRR9659516\n",
    "\n",
    "Far-red pulse samples:\n",
    "    SRR9659517\n",
    "    SRR9659518\n",
    "    SRR9659519\t"
   ]
  },
  {
   "cell_type": "code",
   "execution_count": null,
   "metadata": {},
   "outputs": [],
   "source": [
    "STAR --runThreadN 6 --genomeDir ~/pfb2019_rna1/reference/chr1/indexedchr1 --readFilesIn SRR9659514_pass_1_edit.fastq SRR9659514_pass_2_edit.fastq"
   ]
  },
  {
   "cell_type": "code",
   "execution_count": null,
   "metadata": {},
   "outputs": [],
   "source": [
    "STAR --runThreadN 6 --genomeDir ~/pfb2019_rna1/reference/chr1/indexedchr1 --readFilesIn SRR9659515_pass_1_edit.fastq SRR9659515_pass_2_edit.fastq"
   ]
  },
  {
   "cell_type": "code",
   "execution_count": null,
   "metadata": {},
   "outputs": [],
   "source": [
    "STAR --runThreadN 6 --genomeDir ~/pfb2019_rna1/reference/chr1/indexedchr1 --readFilesIn SRR9659516_pass_1_edit.fastq SRR9659516_pass_2_edit.fastq"
   ]
  },
  {
   "cell_type": "code",
   "execution_count": null,
   "metadata": {},
   "outputs": [],
   "source": [
    "STAR --runThreadN 6 --genomeDir ~/pfb2019_rna1/reference/chr1/indexedchr1 --readFilesIn SRR9659517_pass_1_edit.fastq SRR9659517_pass_2_edit.fastq"
   ]
  },
  {
   "cell_type": "code",
   "execution_count": null,
   "metadata": {},
   "outputs": [],
   "source": [
    "STAR --runThreadN 6 --genomeDir ~/pfb2019_rna1/reference/chr1/indexedchr1 --readFilesIn SRR9659518_pass_1_edit.fastq SRR9659518_pass_2_edit.fastq"
   ]
  },
  {
   "cell_type": "code",
   "execution_count": null,
   "metadata": {},
   "outputs": [],
   "source": [
    "STAR --runThreadN 6 --genomeDir ~/pfb2019_rna1/reference/chr1/indexedchr1 --readFilesIn SRR9659519_pass_1_edit.fastq SRR9659519_pass_2_edit.fastq"
   ]
  },
  {
   "cell_type": "code",
   "execution_count": null,
   "metadata": {},
   "outputs": [],
   "source": []
  }
 ],
 "metadata": {
  "kernelspec": {
   "display_name": "Python 3",
   "language": "python",
   "name": "python3"
  },
  "language_info": {
   "codemirror_mode": {
    "name": "ipython",
    "version": 3
   },
   "file_extension": ".py",
   "mimetype": "text/x-python",
   "name": "python",
   "nbconvert_exporter": "python",
   "pygments_lexer": "ipython3",
   "version": "3.7.3"
  }
 },
 "nbformat": 4,
 "nbformat_minor": 2
}
