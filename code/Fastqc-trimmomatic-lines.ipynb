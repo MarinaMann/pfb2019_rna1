{
 "cells": [
  {
   "cell_type": "markdown",
   "metadata": {},
   "source": [
    "### Step 1: FastQC analysis of \"raw\" data\n",
    "\n",
    "- input data .fastq files collected by Kirsten, need to be checked with FastQC for quality\n",
    "- if quality needs fixing, run trimmomatic\n",
    "\n",
    "Possible to make `if` `else` statement following FastQC results to automate the process? \n",
    "\n",
    "### Make sure to test in command line!\n"
   ]
  },
  {
   "cell_type": "code",
   "execution_count": 1,
   "metadata": {},
   "outputs": [
    {
     "ename": "SyntaxError",
     "evalue": "invalid syntax (<ipython-input-1-3587ef4cbcb9>, line 5)",
     "output_type": "error",
     "traceback": [
      "\u001b[0;36m  File \u001b[0;32m\"<ipython-input-1-3587ef4cbcb9>\"\u001b[0;36m, line \u001b[0;32m5\u001b[0m\n\u001b[0;31m    zcat *fastq.gz | fastqc stdin --outdir /fastqc-results/\u001b[0m\n\u001b[0m                                ^\u001b[0m\n\u001b[0;31mSyntaxError\u001b[0m\u001b[0;31m:\u001b[0m invalid syntax\n"
     ]
    }
   ],
   "source": [
    "#zcat will decompress all .fastq.gz files in the directory specified\n",
    "#stdin is name holder for a file in .fastq format. \n",
    "#FastQC will look for all files in this format in the directory supplied and run on them.\n",
    "#we can output the fastqc results to a new directory, called 'fastqc-results' for file organization\n",
    "zcat ~/../share/fastq/*fastq.gz | fastqc -t 8 stdin -o /fastqc-results/ \n",
    "\n",
    "\n",
    "\n",
    "#then need to open the .html files in the Safari.app \n"
   ]
  },
  {
   "cell_type": "code",
   "execution_count": null,
   "metadata": {},
   "outputs": [],
   "source": [
    "#Running Trimmomatic is never fun...\n",
    "java -jar ~/../share/trimmomatic-0.39.jar PE -threads 10 -trimlog \n",
    " [-trimlog <logFile>] >] [-basein <inputBase> |<input 1> <input 2>][-baseout <outputBase> |<unpaired output 1> <paired output 2> <unpaired output 2> <step 1>"
   ]
  }
 ],
 "metadata": {
  "kernelspec": {
   "display_name": "Python 3",
   "language": "python",
   "name": "python3"
  },
  "language_info": {
   "codemirror_mode": {
    "name": "ipython",
    "version": 3
   },
   "file_extension": ".py",
   "mimetype": "text/x-python",
   "name": "python",
   "nbconvert_exporter": "python",
   "pygments_lexer": "ipython3",
   "version": "3.7.3"
  }
 },
 "nbformat": 4,
 "nbformat_minor": 2
}
